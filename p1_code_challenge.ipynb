{
  "cells": [
    {
      "cell_type": "markdown",
      "metadata": {
        "id": "view-in-github",
        "colab_type": "text"
      },
      "source": [
        "<a href=\"https://colab.research.google.com/github/obwogemiss/dsc-accessing-data-with-pandas-lab/blob/master/p1_code_challenge.ipynb\" target=\"_parent\"><img src=\"https://colab.research.google.com/assets/colab-badge.svg\" alt=\"Open In Colab\"/></a>"
      ]
    },
    {
      "cell_type": "markdown",
      "metadata": {
        "nbgrader": {
          "grade": false,
          "grade_id": "cell-1dc8c072d516f820",
          "locked": true,
          "schema_version": 3,
          "solution": false,
          "task": false
        },
        "id": "Cy-G0veRDESe"
      },
      "source": [
        "# Phase 1 Code Challenge\n",
        "This code challenge is designed to test your understanding of the Phase 1 material. It covers:\n",
        "\n",
        "- Pandas\n",
        "- Data Visualization\n",
        "- Exploring Statistical Data\n",
        "- Python Data Structures\n",
        "\n",
        "*Read the instructions carefully.* Your code will need to meet detailed specifications to pass automated tests.\n",
        "\n",
        "## Code Tests\n",
        "\n",
        "We have provided some code tests for you to run to check that your work meets the item specifications. Passing these tests does not necessarily mean that you have gotten the item correct - there are additional hidden tests. However, if any of the tests do not pass, this tells you that your code is incorrect and needs changes to meet the specification. To determine what the issue is, read the comments in the code test cells, the error message you receive, and the item instructions."
      ]
    },
    {
      "cell_type": "markdown",
      "metadata": {
        "nbgrader": {
          "grade": false,
          "grade_id": "cell-9cdee0770b4e45d9",
          "locked": true,
          "schema_version": 3,
          "solution": false,
          "task": false
        },
        "id": "g349HvyODESf"
      },
      "source": [
        "---\n",
        "## Part 1: Pandas [Suggested Time: 15 minutes]\n",
        "---\n",
        "In this part, you will preprocess a dataset from the video game [FIFA19](https://www.kaggle.com/karangadiya/fifa19), which contains data from the players' real-life careers."
      ]
    },
    {
      "cell_type": "code",
      "execution_count": 113,
      "metadata": {
        "nbgrader": {
          "grade": false,
          "grade_id": "cell-6b5542e3f39ef221",
          "locked": true,
          "schema_version": 3,
          "solution": false,
          "task": false
        },
        "id": "E16Zl5r5DESf"
      },
      "outputs": [],
      "source": [
        "# Run this cell without changes\n",
        "\n",
        "import pandas as pd\n",
        "import numpy as np\n",
        "from numbers import Number\n",
        "import warnings\n",
        "warnings.filterwarnings('ignore')"
      ]
    },
    {
      "cell_type": "markdown",
      "metadata": {
        "nbgrader": {
          "grade": false,
          "grade_id": "cell-b9b25e040991b1e6",
          "locked": true,
          "schema_version": 3,
          "solution": false,
          "task": false
        },
        "id": "QQ--p-ovDESg"
      },
      "source": [
        "### 1.1) Read `fifa.csv` into a pandas DataFrame named `df`\n",
        "\n",
        "Use pandas to create a new DataFrame, called `df`, containing the data from the dataset in the file `fifa.csv` in the folder containing this notebook.\n",
        "\n",
        "Hint: Use the string `'./fifa.csv'` as the file reference."
      ]
    },
    {
      "cell_type": "code",
      "execution_count": 114,
      "metadata": {
        "nbgrader": {
          "grade": false,
          "grade_id": "cell-18fbca9dcea2ebbd",
          "locked": true,
          "schema_version": 3,
          "solution": false,
          "task": false
        },
        "id": "ysNl4MQ2DESg"
      },
      "outputs": [],
      "source": [
        "# CodeGrade step1.1\n",
        "# Replace None with appropriate code\n",
        "\n",
        "df = pd.read_csv('/content/fifa.csv')"
      ]
    },
    {
      "cell_type": "code",
      "execution_count": 115,
      "metadata": {
        "id": "7ho0VIy_DESg"
      },
      "outputs": [],
      "source": [
        "# This test confirms that you have created a DataFrame named df\n",
        "\n",
        "assert type(df) == pd.DataFrame"
      ]
    },
    {
      "cell_type": "markdown",
      "metadata": {
        "nbgrader": {
          "grade": false,
          "grade_id": "cell-42ef866849a4d833",
          "locked": true,
          "schema_version": 3,
          "solution": false,
          "task": false
        },
        "id": "Ozt8q-_uDESg"
      },
      "source": [
        "### 1.2) Convert the `'Release Clause'` values from Euros to dollars\n",
        "\n",
        "The `'Release Clause'` variable contains prices denominated in Euros. Use the exchange rate `1 Euro = 1.2 Dollars` to convert the prices to dollars."
      ]
    },
    {
      "cell_type": "code",
      "execution_count": 116,
      "metadata": {
        "id": "xruojddbDESg"
      },
      "outputs": [],
      "source": [
        "# CodeGrade step1.2\n",
        "# Replace None with appropriate code\n",
        "\n",
        "df['Release Clause'] = df['Release Clause'] * 1.2"
      ]
    },
    {
      "cell_type": "markdown",
      "metadata": {
        "nbgrader": {
          "grade": false,
          "grade_id": "cell-e9a1540ffff85098",
          "locked": true,
          "schema_version": 3,
          "solution": false,
          "task": false
        },
        "id": "deJADza3DESg"
      },
      "source": [
        "### 1.3) Drop rows from `df` with missing values for the `'Release Clause'` feature.\n",
        "    \n",
        "Make sure that `df` remains the name of the dataset with the dropped rows."
      ]
    },
    {
      "cell_type": "code",
      "execution_count": 117,
      "metadata": {
        "id": "mSDFKwwdDESg"
      },
      "outputs": [],
      "source": [
        "# CodeGrade step1.3\n",
        "# Replace None with appropriate code\n",
        "\n",
        "df = df.dropna(subset= ['Release Clause'])"
      ]
    },
    {
      "cell_type": "code",
      "execution_count": 118,
      "metadata": {
        "id": "pPJyWhOqDESh"
      },
      "outputs": [],
      "source": [
        "# This test confirms that your dataset has the correct number of observations after dropping\n",
        "\n",
        "assert df['Release Clause'].shape[0] == 16643"
      ]
    },
    {
      "cell_type": "markdown",
      "metadata": {
        "nbgrader": {
          "grade": false,
          "grade_id": "cell-be6ad3929cc953e5",
          "locked": true,
          "schema_version": 3,
          "solution": false,
          "task": false
        },
        "id": "_1zUX9OcDESh"
      },
      "source": [
        "### 1.4) Create a list `top_10_countries` containing the names of the 10 countries with the most players (using the `'Nationality'` column).\n",
        "\n",
        "Hint: Your answer should include England, Germany, Spain, France, and Argentina"
      ]
    },
    {
      "cell_type": "code",
      "execution_count": 119,
      "metadata": {
        "nbgrader": {
          "grade": false,
          "grade_id": "cell-a33121d22f5d8535",
          "locked": true,
          "schema_version": 3,
          "solution": false,
          "task": false
        },
        "id": "Qesk4dOLDESh"
      },
      "outputs": [],
      "source": [
        "# CodeGrade step1.4\n",
        "# Replace None with appropriate code\n",
        "\n",
        "top_10_countries = df['Nationality'].value_counts().head(10).index.tolist()"
      ]
    },
    {
      "cell_type": "code",
      "execution_count": 120,
      "metadata": {
        "id": "sN6xHGuWDESh"
      },
      "outputs": [],
      "source": [
        "# This test confirms that you have created a list named top_10_countries\n",
        "\n",
        "assert type(top_10_countries) == list\n",
        "\n",
        "# This test confirms that top_10_countries contains England, Germany, Spain, France, and Argentina\n",
        "\n",
        "assert set(['England', 'Germany', 'Spain', 'France', 'Argentina']).issubset(set(top_10_countries))"
      ]
    },
    {
      "cell_type": "markdown",
      "metadata": {
        "nbgrader": {
          "grade": false,
          "grade_id": "cell-f9d5841f356a5a8a",
          "locked": true,
          "schema_version": 3,
          "solution": false,
          "task": false
        },
        "id": "KX-F9CzHDESh"
      },
      "source": [
        "## Part 2: Data Visualization [Suggested Time: 20 minutes]\n",
        "This part uses the same FIFA dataset, and asks you to plot data using `matplotlib`."
      ]
    },
    {
      "cell_type": "code",
      "execution_count": 121,
      "metadata": {
        "nbgrader": {
          "grade": false,
          "grade_id": "cell-0b27595ca9348a59",
          "locked": true,
          "schema_version": 3,
          "solution": false,
          "task": false
        },
        "id": "IEr8cPApDESh"
      },
      "outputs": [],
      "source": [
        "# Run this cell without changes\n",
        "\n",
        "import matplotlib\n",
        "import matplotlib.pyplot as plt"
      ]
    },
    {
      "cell_type": "markdown",
      "metadata": {
        "nbgrader": {
          "grade": false,
          "grade_id": "cell-112f61d031df8fca",
          "locked": true,
          "schema_version": 3,
          "solution": false,
          "task": false
        },
        "id": "wUrWQ5LZDESh"
      },
      "source": [
        "### 2.1) Create a matplotlib figure `player_count_figure` containing a labeled bar chart with the number of players from England, Germany, Spain, France, and Argentina\n",
        "\n",
        "Use the strings provided below (`bar_chart_title`, `bar_chart_count_label`, and `bar_chart_series_label`) to title and label your bar chart.\n",
        "\n",
        "Hint: These are the countries with the top 5 numbers of players, so you may be able to adapt some of the code you used for question 1.4. If you were unable to complete 1.4, use the following values:\n",
        "\n",
        "```\n",
        "Country Name  | Num Players\n",
        "============  | ===========\n",
        "England       | 1000\n",
        "Germany       | 900\n",
        "Spain         | 800\n",
        "France        | 700\n",
        "Argentina     | 600\n",
        "```"
      ]
    },
    {
      "cell_type": "code",
      "execution_count": 122,
      "metadata": {
        "colab": {
          "base_uri": "https://localhost:8080/",
          "height": 581
        },
        "id": "lA9wXz8LDESh",
        "outputId": "0cb9b3ae-5492-4f70-bda9-8938005c9efd"
      },
      "outputs": [
        {
          "output_type": "execute_result",
          "data": {
            "text/plain": [
              "Text(0, 0.5, 'Number of Players')"
            ]
          },
          "metadata": {},
          "execution_count": 122
        },
        {
          "output_type": "display_data",
          "data": {
            "text/plain": [
              "<Figure size 1000x600 with 1 Axes>"
            ],
            "image/png": "[encoded data removed]"
          },
          "metadata": {}
        }
      ],
      "source": [
        "# CodeGrade step2.1\n",
        "# Replace None with appropriate code\n",
        "\n",
        "bar_chart_countries = ['England', 'Germany', 'Spain', 'France', 'Argentina']\n",
        "\n",
        "bar_chart_title = '5 Countries with the Most Players'\n",
        "bar_chart_count_label = 'Number of Players'\n",
        "bar_chart_series_label = 'Nationality'\n",
        "\n",
        "\n",
        "\n",
        "top_5_countries = ['England', 'Germany', 'Spain', 'France', 'Argentina']\n",
        "\n",
        "player_count_figure, ax = plt.subplots(figsize=(10, 6))\n",
        "country_counts = df['Nationality'].value_counts()\n",
        "\n",
        "x =top_5_countries\n",
        "heights = [country_counts[country] for country in top_5_countries]\n",
        "\n",
        "ax.bar(x, heights)\n",
        "# title\n",
        "plt.title(bar_chart_title)\n",
        "# x-axis label\n",
        "plt.xlabel(bar_chart_series_label)\n",
        "# y-axis label\n",
        "plt.ylabel(bar_chart_count_label)"
      ]
    },
    {
      "cell_type": "code",
      "execution_count": 123,
      "metadata": {
        "id": "Dho8GjgLDESi"
      },
      "outputs": [],
      "source": [
        "# This test confirms that you have created a figure named player_count_figure\n",
        "\n",
        "assert type(player_count_figure) == plt.Figure\n",
        "\n",
        "# This test confirms that the figure contains exactly one axis\n",
        "\n",
        "assert len(player_count_figure.axes) == 1"
      ]
    },
    {
      "cell_type": "code",
      "execution_count": 124,
      "metadata": {
        "id": "YJ4gkMwaDESi"
      },
      "outputs": [],
      "source": [
        "# These tests confirm that the figure has a title and axis labels\n",
        "\n",
        "assert player_count_figure.axes[0].get_title() != ''\n",
        "assert player_count_figure.axes[0].get_ylabel() != ''\n",
        "assert player_count_figure.axes[0].get_xlabel() != ''"
      ]
    },
    {
      "cell_type": "markdown",
      "metadata": {
        "nbgrader": {
          "grade": false,
          "grade_id": "cell-70190139727d20a2",
          "locked": true,
          "schema_version": 3,
          "solution": false,
          "task": false
        },
        "id": "bhVHDQN_DESi"
      },
      "source": [
        "### 2.2) Create a matplotlib figure `tackle_figure` containing a labeled scatter plot visualizing the relationship between `StandingTackle` (on X axis) and `SlidingTackle` (on Y axis)\n",
        "\n",
        "Use the strings provided below (`scatter_plot_title`, `standing_tackle_label`, and `sliding_tackle_label`) to title and label your scatter plot."
      ]
    },
    {
      "cell_type": "code",
      "execution_count": 125,
      "metadata": {
        "nbgrader": {
          "grade": false,
          "grade_id": "cell-064cad4a79f53237",
          "locked": false,
          "schema_version": 3,
          "solution": true,
          "task": false
        },
        "colab": {
          "base_uri": "https://localhost:8080/",
          "height": 581
        },
        "id": "UF_ik5s1DESi",
        "outputId": "54558ee8-7f5e-4a81-bca0-dbebd491f33e"
      },
      "outputs": [
        {
          "output_type": "execute_result",
          "data": {
            "text/plain": [
              "Text(0, 0.5, 'Sliding Tackles')"
            ]
          },
          "metadata": {},
          "execution_count": 125
        },
        {
          "output_type": "display_data",
          "data": {
            "text/plain": [
              "<Figure size 1000x600 with 1 Axes>"
            ],
            "image/png": "[encoded data removed]"
          },
          "metadata": {}
        }
      ],
      "source": [
        "# CodeGrade step2.2\n",
        "\n",
        "scatter_plot_title = 'Relationship Between Standing Tackles and Sliding Tackles'\n",
        "standing_tackle_label = 'Standing Tackles'\n",
        "sliding_tackle_label = 'Sliding Tackles'\n",
        "\n",
        "tackle_figure, ax = plt.subplots(figsize=(10, 6))\n",
        "\n",
        "# Your code here\n",
        "ax.scatter(df['StandingTackle'], df['SlidingTackle'])\n",
        "# title\n",
        "ax.set_title(scatter_plot_title)\n",
        "# x-axis label\n",
        "ax.set_xlabel(standing_tackle_label)\n",
        "# y-axis label\n",
        "ax.set_ylabel(sliding_tackle_label)"
      ]
    },
    {
      "cell_type": "code",
      "execution_count": 126,
      "metadata": {
        "id": "_LkXmDhTDESi"
      },
      "outputs": [],
      "source": [
        "# This test confirms that you have created a figure named tackle_figure\n",
        "\n",
        "assert type(tackle_figure) == plt.Figure\n",
        "\n",
        "# This test confirms that the figure contains exactly one axis\n",
        "\n",
        "assert len(tackle_figure.axes) == 1"
      ]
    },
    {
      "cell_type": "markdown",
      "metadata": {
        "nbgrader": {
          "grade": false,
          "grade_id": "cell-d6d6af6c94216981",
          "locked": true,
          "schema_version": 3,
          "solution": false,
          "task": false
        },
        "id": "0V2wofY0DESi"
      },
      "source": [
        "## Part 3: Exploring Statistical Data [Suggested Time: 20 minutes]\n",
        "This part does some exploratory analysis using the same FIFA dataset."
      ]
    },
    {
      "cell_type": "markdown",
      "metadata": {
        "nbgrader": {
          "grade": false,
          "grade_id": "cell-1f6263e9b6ccbe48",
          "locked": true,
          "schema_version": 3,
          "solution": false,
          "task": false
        },
        "id": "wHgYJDkfDESi"
      },
      "source": [
        "### 3.1) Create numeric variables `mean_age` and `median_age` containing the mean and median player ages (respectively)."
      ]
    },
    {
      "cell_type": "code",
      "execution_count": 127,
      "metadata": {
        "nbgrader": {
          "grade": false,
          "grade_id": "cell-8182a47b74d8308c",
          "locked": true,
          "schema_version": 3,
          "solution": false,
          "task": false
        },
        "id": "NJECSUgaDESi"
      },
      "outputs": [],
      "source": [
        "# CodeGrade step3.1\n",
        "# Replace None with appropriate code\n",
        "\n",
        "mean_age = df['Age'].mean()\n",
        "median_age = df['Age'].median()"
      ]
    },
    {
      "cell_type": "code",
      "execution_count": 128,
      "metadata": {
        "id": "gGBbSnKtDESi"
      },
      "outputs": [],
      "source": [
        "# These tests confirm that you have created numeric variables named mean_age and median_age\n",
        "\n",
        "assert isinstance(mean_age, Number)\n",
        "assert isinstance(median_age, Number)"
      ]
    },
    {
      "cell_type": "markdown",
      "metadata": {
        "nbgrader": {
          "grade": false,
          "grade_id": "cell-53c00926ddd0e281",
          "locked": true,
          "schema_version": 3,
          "solution": false,
          "task": false
        },
        "id": "GEPr6V_5DESj"
      },
      "source": [
        "### 3.2) Create a string variable `oldest_argentine_name` and a numeric variable `oldest_argentine_age` containing the name and age (respectively) of the oldest player with Argentina nationality."
      ]
    },
    {
      "cell_type": "code",
      "execution_count": 129,
      "metadata": {
        "nbgrader": {
          "grade": false,
          "grade_id": "cell-8a8f465bb935cc1a",
          "locked": true,
          "schema_version": 3,
          "solution": false,
          "task": false
        },
        "id": "qUDvi4FZDESj"
      },
      "outputs": [],
      "source": [
        "# CodeGrade step3.2\n",
        "# Replace None with appropriate code\n",
        "\n",
        "argentines = df[df['Nationality'] == 'Argentina']\n",
        "oldest_argentine_row = argentines.loc[argentines['Age'].idxmax()]\n",
        "oldest_argentine_name = oldest_argentine_row['Name']\n",
        "oldest_argentine_age = oldest_argentine_row['Age']"
      ]
    },
    {
      "cell_type": "code",
      "execution_count": 130,
      "metadata": {
        "id": "hrGyGirkDESj"
      },
      "outputs": [],
      "source": [
        "# This test confirms that you have created a string variable named oldest_argentine_name\n",
        "\n",
        "assert type(oldest_argentine_name) == str\n",
        "\n",
        "# This test confirms that you have created a numeric variable named oldest_argentine_age\n",
        "\n",
        "assert isinstance(oldest_argentine_age, Number)"
      ]
    },
    {
      "cell_type": "markdown",
      "metadata": {
        "nbgrader": {
          "grade": false,
          "grade_id": "cell-a7ce98ae6d482777",
          "locked": true,
          "schema_version": 3,
          "solution": false,
          "task": false
        },
        "id": "GGufh4AaDESj"
      },
      "source": [
        "## Part 4: Python Data Structures [Suggested Time: 20 min]\n",
        "\n",
        "Below is a dictionary `players` with information about soccer players. The keys are player names and the values are dictionaries containing each player's age, nationality, and a list of teams they have played for."
      ]
    },
    {
      "cell_type": "code",
      "execution_count": 131,
      "metadata": {
        "nbgrader": {
          "grade": false,
          "grade_id": "cell-aeec0f73b4c2686e",
          "locked": true,
          "schema_version": 3,
          "solution": false,
          "task": false
        },
        "id": "IwyX1v04DESj"
      },
      "outputs": [],
      "source": [
        "# Run this cell without changes\n",
        "\n",
        "players = {\n",
        "    'L. Messi': {\n",
        "        'age': 31,\n",
        "        'nationality': 'Argentina',\n",
        "        'teams': ['Barcelona']\n",
        "    },\n",
        "    'Cristiano Ronaldo': {\n",
        "        'age': 33,\n",
        "        'nationality': 'Portugal',\n",
        "        'teams': ['Juventus', 'Real Madrid', 'Manchester United']\n",
        "    },\n",
        "    'Neymar Jr': {\n",
        "        'age': 26,\n",
        "        'nationality': 'Brazil',\n",
        "        'teams': ['Santos', 'Barcelona', 'Paris Saint-German']\n",
        "    },\n",
        "    'De Gea': {\n",
        "        'age': 27,\n",
        "        'nationality': 'Spain',\n",
        "        'teams': ['Atletico Madrid', 'Manchester United']\n",
        "    },\n",
        "    'K. De Bruyne': {\n",
        "        'age': 27,\n",
        "        'nationality': 'Belgium',\n",
        "        'teams': ['Chelsea', 'Manchester City']\n",
        "    }\n",
        "}"
      ]
    },
    {
      "cell_type": "markdown",
      "metadata": {
        "nbgrader": {
          "grade": false,
          "grade_id": "cell-c53443152551683e",
          "locked": true,
          "schema_version": 3,
          "solution": false,
          "task": false
        },
        "id": "R_ymj2muDESj"
      },
      "source": [
        "### 4.1) Create a list `player_names` of all the player names in dictionary `players`."
      ]
    },
    {
      "cell_type": "code",
      "execution_count": 132,
      "metadata": {
        "nbgrader": {
          "grade": false,
          "grade_id": "cell-59b73bc797a324dd",
          "locked": true,
          "schema_version": 3,
          "solution": false,
          "task": false
        },
        "id": "DI6noPFoDESj"
      },
      "outputs": [],
      "source": [
        "# CodeGrade step4.1\n",
        "# Replace None with appropriate code\n",
        "\n",
        "player_names = list(players.keys())"
      ]
    },
    {
      "cell_type": "code",
      "execution_count": 133,
      "metadata": {
        "id": "lkm_Zop6DESk"
      },
      "outputs": [],
      "source": [
        "# This test confirms that you have created a list named player_names\n",
        "\n",
        "assert type(player_names) == list"
      ]
    },
    {
      "cell_type": "markdown",
      "metadata": {
        "nbgrader": {
          "grade": false,
          "grade_id": "cell-b9f6a94ed0a0865e",
          "locked": true,
          "schema_version": 3,
          "solution": false,
          "task": false
        },
        "id": "kYc9n6ihDESk"
      },
      "source": [
        "### 4.2) Create a list of tuples `player_nationalities` containing each player's name along with their nationality."
      ]
    },
    {
      "cell_type": "code",
      "execution_count": 134,
      "metadata": {
        "nbgrader": {
          "grade": false,
          "grade_id": "cell-b52f98d5a617ecee",
          "locked": true,
          "schema_version": 3,
          "solution": false,
          "task": false
        },
        "id": "x3XugEZADESk"
      },
      "outputs": [],
      "source": [
        "# CodeGrade step4.2\n",
        "# Replace None with appropriate code\n",
        "\n",
        "player_nationalities = [(name, info['nationality']) for name, info in players.items()]"
      ]
    },
    {
      "cell_type": "code",
      "execution_count": 135,
      "metadata": {
        "id": "TuIakDYLDESk"
      },
      "outputs": [],
      "source": [
        "# This test confirms that you have created a list named player_nationalities\n",
        "\n",
        "assert type(player_nationalities) == list"
      ]
    },
    {
      "cell_type": "markdown",
      "metadata": {
        "nbgrader": {
          "grade": false,
          "grade_id": "cell-87a014f4e268c1d7",
          "locked": true,
          "schema_version": 3,
          "solution": false,
          "task": false
        },
        "id": "SZGcZI7vDESk"
      },
      "source": [
        "### 4.3) Define a function `get_players_on_team()` that returns a list of names of all the players who have played on a given team.\n",
        "\n",
        "Your function should take two arguments:\n",
        "\n",
        "- A dictionary of player information\n",
        "- A string containing a team name (for which you are trying to find the player names)"
      ]
    },
    {
      "cell_type": "code",
      "execution_count": 136,
      "metadata": {
        "nbgrader": {
          "grade": false,
          "grade_id": "cell-9546ae6235a3a164",
          "locked": true,
          "schema_version": 3,
          "solution": false,
          "task": false
        },
        "id": "EuwBTj7eDESs"
      },
      "outputs": [],
      "source": [
        "# CodeGrade step4.3\n",
        "\n",
        "def get_players_on_team(player_dict, team_name):\n",
        "    player_list = []\n",
        "\n",
        "    # Your code here\n",
        "    for name, info in player_dict.items():\n",
        "      if team_name in info['teams']:\n",
        "        player_list.append(name)\n",
        "    return player_list"
      ]
    },
    {
      "cell_type": "code",
      "execution_count": 137,
      "metadata": {
        "id": "yWm3GDk6DESs"
      },
      "outputs": [],
      "source": [
        "# This test confirms that get_players_on_team() returns the right names for Manchester United\n",
        "\n",
        "manchester_united_players = ['Cristiano Ronaldo', 'De Gea']\n",
        "players_on_manchester_united = get_players_on_team(players, 'Manchester United')\n",
        "\n",
        "assert players_on_manchester_united == manchester_united_players"
      ]
    }
  ],
  "metadata": {
    "celltoolbar": "Create Assignment",
    "kernelspec": {
      "display_name": "Python (learn-env)",
      "language": "python",
      "name": "learn-env"
    },
    "language_info": {
      "codemirror_mode": {
        "name": "ipython",
        "version": 3
      },
      "file_extension": ".py",
      "mimetype": "text/x-python",
      "name": "python",
      "nbconvert_exporter": "python",
      "pygments_lexer": "ipython3",
      "version": "3.8.5"
    },
    "colab": {
      "provenance": [],
      "include_colab_link": true
    }
  },
  "nbformat": 4,
  "nbformat_minor": 0
}